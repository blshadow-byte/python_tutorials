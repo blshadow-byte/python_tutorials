{
 "cells": [
  {
   "cell_type": "code",
   "execution_count": 1,
   "metadata": {},
   "outputs": [],
   "source": [
    "# ****************************** Print Function *****************************\n",
    "# if we want to print something in screen, what can we do?\n",
    "# we will use \"print\" function to print something in the screen\n",
    "# what, we want to print in the screen\n",
    "# we will write it inside the double or single quotes in print function\n",
    "# *************************************************************************** "
   ]
  },
  {
   "cell_type": "code",
   "execution_count": 3,
   "metadata": {},
   "outputs": [
    {
     "name": "stdout",
     "output_type": "stream",
     "text": [
      "Hello, world!\n",
      "Hello, world!\n"
     ]
    }
   ],
   "source": [
    "# let's write a program to print \"Hello, world!\" in the screen\n",
    "\n",
    "print(\"Hello, world!\")\n",
    "print('Hello, world!')"
   ]
  },
  {
   "cell_type": "code",
   "execution_count": 4,
   "metadata": {},
   "outputs": [],
   "source": [
    "# **********************************************************************************************************\n",
    "# is it possible to use quotes inside quotes?\n",
    "# of course, it is possible\n",
    "# but there is some condition to use quotes inside quotes\n",
    "# first, we can use single quotes insude double quotes, like this-----> \"Hello,'World!'\" -----> not error\n",
    "# but we can't use double quotes inside double qoutes, like this-----> \"Hello,\"world!\"\" -----> error\n",
    "# second, we can use double quotes inside single quotes, like this-----> 'Hello,\"World\"' -----> not error\n",
    "# but, we can't use single quotes inside single quotes, like this-----> 'Hello, \"world!\"' -----> error\n",
    "# **********************************************************************************************************"
   ]
  },
  {
   "cell_type": "code",
   "execution_count": 5,
   "metadata": {},
   "outputs": [
    {
     "name": "stdout",
     "output_type": "stream",
     "text": [
      "Hello, 'world!'\n",
      "Hello, \"world!\"\n"
     ]
    }
   ],
   "source": [
    "# let's write a program to print \"Hello, world!\" in the screen\n",
    "\n",
    "print(\"Hello, 'world!'\")\n",
    "print('Hello, \"world!\"')"
   ]
  }
 ],
 "metadata": {
  "kernelspec": {
   "display_name": "Python 3",
   "language": "python",
   "name": "python3"
  },
  "language_info": {
   "codemirror_mode": {
    "name": "ipython",
    "version": 3
   },
   "file_extension": ".py",
   "mimetype": "text/x-python",
   "name": "python",
   "nbconvert_exporter": "python",
   "pygments_lexer": "ipython3",
   "version": "3.7.3"
  }
 },
 "nbformat": 4,
 "nbformat_minor": 4
}
