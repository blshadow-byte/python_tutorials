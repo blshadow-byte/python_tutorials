{
 "cells": [
  {
   "cell_type": "code",
   "execution_count": 1,
   "metadata": {},
   "outputs": [],
   "source": [
    "# **************************Print these following lines**************************\n",
    "# this is \\\\ double backslash\n",
    "# this is /\\/\\/\\/\\/\\/\\ mountain\n",
    "# she is so    cute (use escape sequence instead of manual spaces)\n",
    "# \\' \\\" \\n \\t (print this as an output)"
   ]
  },
  {
   "cell_type": "code",
   "execution_count": 3,
   "metadata": {},
   "outputs": [
    {
     "name": "stdout",
     "output_type": "stream",
     "text": [
      "this is \\\\ double backslah\n",
      "this is //\\//\\//\\//\\//\\//\\ mountain\n",
      "she is so \t cute\n",
      " \\' \\\" \\t \\n\n"
     ]
    }
   ],
   "source": [
    "# solution\n",
    "\n",
    "print(\"this is \\\\\\\\ double backslah\")\n",
    "print(\"this is //\\//\\//\\//\\//\\//\\ mountain\")\n",
    "print(\"she is so \\t cute\")\n",
    "print(\" \\\\\\' \\\\\\\" \\\\t \\\\n\")"
   ]
  }
 ],
 "metadata": {
  "kernelspec": {
   "display_name": "Python 3",
   "language": "python",
   "name": "python3"
  },
  "language_info": {
   "codemirror_mode": {
    "name": "ipython",
    "version": 3
   },
   "file_extension": ".py",
   "mimetype": "text/x-python",
   "name": "python",
   "nbconvert_exporter": "python",
   "pygments_lexer": "ipython3",
   "version": "3.6.7"
  }
 },
 "nbformat": 4,
 "nbformat_minor": 2
}
