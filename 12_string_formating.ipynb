{
 "cells": [
  {
   "cell_type": "code",
   "execution_count": 3,
   "metadata": {},
   "outputs": [
    {
     "name": "stdout",
     "output_type": "stream",
     "text": [
      "Hello, Jobaer\n",
      " you are 20\n"
     ]
    }
   ],
   "source": [
    "# let's write a program\n",
    "\n",
    "\n",
    "user_name = \"Jobaer\"\n",
    "user_age = 20\n",
    "print(\"Hello, \"+user_name+\"\\n you are \"+str(user_age))"
   ]
  },
  {
   "cell_type": "code",
   "execution_count": 4,
   "metadata": {},
   "outputs": [],
   "source": [
    "# the string look so ugly\n",
    "# let's decorated the string\n",
    "# there is two method to decorated the string, one is use for python 3 and other is for python 3.6"
   ]
  },
  {
   "cell_type": "code",
   "execution_count": null,
   "metadata": {},
   "outputs": [],
   "source": [
    "# let's see the python 3 method\n",
    "# syntax -----> print(\"Hello, Mr.{} \\n you are {}\".fortam(var_name,var_name))\n",
    "# in the string where we have to use variable, there add a place holder\n",
    "# write the the variable namme inside format function sequencly\n",
    "# let's write a program"
   ]
  },
  {
   "cell_type": "code",
   "execution_count": 4,
   "metadata": {},
   "outputs": [
    {
     "name": "stdout",
     "output_type": "stream",
     "text": [
      "Hello, Jobaer \n",
      " you are 20\n"
     ]
    }
   ],
   "source": [
    "user_name = \"Jobaer\"\n",
    "user_age = 20\n",
    "print(\"Hello, {} \\n you are {}\".format(user_name,user_age))"
   ]
  },
  {
   "cell_type": "code",
   "execution_count": 5,
   "metadata": {},
   "outputs": [],
   "source": [
    "# let's see the python 3.6 method\n",
    "# syntax -----> print(f\"Hello, Mr.{var_name} \\n you are {var_name}\")\n",
    "# in the string where we have to use variable, there add a place holder and add the variable namme inside the placeholder\n",
    "# but you have to add a \"f\"before string, remember this carefully\n",
    "# let's write a program"
   ]
  },
  {
   "cell_type": "code",
   "execution_count": 7,
   "metadata": {},
   "outputs": [
    {
     "name": "stdout",
     "output_type": "stream",
     "text": [
      "Hello, Jobaer \n",
      " you are 20\n"
     ]
    }
   ],
   "source": [
    "user_name = \"Jobaer\"\n",
    "user_age = 20\n",
    "print(f\"Hello, {user_name} \\n you are {user_age}\")"
   ]
  }
 ],
 "metadata": {
  "kernelspec": {
   "display_name": "Python 3",
   "language": "python",
   "name": "python3"
  },
  "language_info": {
   "codemirror_mode": {
    "name": "ipython",
    "version": 3
   },
   "file_extension": ".py",
   "mimetype": "text/x-python",
   "name": "python",
   "nbconvert_exporter": "python",
   "pygments_lexer": "ipython3",
   "version": "3.6.7"
  }
 },
 "nbformat": 4,
 "nbformat_minor": 2
}
