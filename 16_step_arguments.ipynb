{
 "cells": [
  {
   "cell_type": "code",
   "execution_count": 1,
   "metadata": {},
   "outputs": [],
   "source": [
    "# let's see a string\n",
    "\n",
    "Language = \"Python\"\n",
    "\n",
    "# if we want print the string like this \"pt\"\n",
    "# what can we do?\n",
    "# we will use step agrument\n",
    "# syntax -----> print(variable_name[start agrument : stop agrument : step agrument])"
   ]
  },
  {
   "cell_type": "code",
   "execution_count": 2,
   "metadata": {},
   "outputs": [
    {
     "name": "stdout",
     "output_type": "stream",
     "text": [
      "Pt\n"
     ]
    }
   ],
   "source": [
    "# so, we have to take character (P to t), P is on the '0' position and T is on the '2' position\n",
    "# we have to take '0' to '3' position characters\n",
    "# if we want to skip a character, we have to use 2 in the step agrument\n",
    "# let's see a program\n",
    "\n",
    "print(Language[0:3:2])"
   ]
  },
  {
   "cell_type": "code",
   "execution_count": 5,
   "metadata": {},
   "outputs": [
    {
     "name": "stdout",
     "output_type": "stream",
     "text": [
      "Ph\n"
     ]
    }
   ],
   "source": [
    "# if we want to skip two character, we have to use 3 in the step agrument\n",
    "\n",
    "print(Language[0::3]) # start argument and stop arguments work like string slicing"
   ]
  },
  {
   "cell_type": "code",
   "execution_count": 7,
   "metadata": {},
   "outputs": [
    {
     "name": "stdout",
     "output_type": "stream",
     "text": [
      "nohtyP\n"
     ]
    }
   ],
   "source": [
    "# we can print the string in reverse order\n",
    "# for this, we have to use negative position number\n",
    "\n",
    "print(Language[-1::-1])"
   ]
  }
 ],
 "metadata": {
  "kernelspec": {
   "display_name": "Python 3",
   "language": "python",
   "name": "python3"
  },
  "language_info": {
   "codemirror_mode": {
    "name": "ipython",
    "version": 3
   },
   "file_extension": ".py",
   "mimetype": "text/x-python",
   "name": "python",
   "nbconvert_exporter": "python",
   "pygments_lexer": "ipython3",
   "version": "3.6.7"
  }
 },
 "nbformat": 4,
 "nbformat_minor": 2
}
