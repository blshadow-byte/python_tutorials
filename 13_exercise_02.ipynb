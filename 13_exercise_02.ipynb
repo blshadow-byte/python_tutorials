{
 "cells": [
  {
   "cell_type": "code",
   "execution_count": 1,
   "metadata": {},
   "outputs": [],
   "source": [
    "# let's do a exercise\n",
    "# ask to user input three number and you have to print average of these three numbers using string formating\n",
    "# bonus:-----> try to take all three comma separated input in one line"
   ]
  },
  {
   "cell_type": "code",
   "execution_count": 3,
   "metadata": {},
   "outputs": [
    {
     "name": "stdout",
     "output_type": "stream",
     "text": [
      "Enter three number separated by comma: 5,6,7\n",
      "Average of 5, 6 and 7 is 189.0\n"
     ]
    }
   ],
   "source": [
    "# solution of exercise\n",
    "\n",
    "num_one,num_two,num_three = input(\"Enter three number separated by comma: \").split(\",\")\n",
    "average_of_three = int((num_one+num_two+num_three))/3\n",
    "print(f\"Average of {num_one}, {num_two} and {num_three} is {average_of_three}\")"
   ]
  }
 ],
 "metadata": {
  "kernelspec": {
   "display_name": "Python 3",
   "language": "python",
   "name": "python3"
  }
 },
 "nbformat": 4,
 "nbformat_minor": 2
}
