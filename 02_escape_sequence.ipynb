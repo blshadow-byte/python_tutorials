{
 "cells": [
  {
   "cell_type": "code",
   "execution_count": null,
   "metadata": {},
   "outputs": [],
   "source": [
    "# ****************************** list of escape sequences ******************************\n",
    "# symbol ----------> meaning\n",
    "# \" \\' \" ----------> single quotes\n",
    "# \" \\\" \" ----------> double quotes\n",
    "# \" \\\\ \" ----------> backslash\n",
    "# \" \\n \" ----------> new line\n",
    "# \" \\t \" ----------> tab\n",
    "# \" \\b \" ----------> backspace\n",
    "# **************************************************************************************"
   ]
  },
  {
   "cell_type": "code",
   "execution_count": null,
   "metadata": {},
   "outputs": [],
   "source": [
    "# ****************************** lets the uses of escape sequence ******************************\n",
    "\n",
    "# uses of \" \\' \" single quotes\n",
    "# is it possible to add single quotes inside single quotes?\n",
    "# of course, it is\n",
    "# to add single quotes inside single quotes, we will use single quotes escape sequence"
   ]
  },
  {
   "cell_type": "code",
   "execution_count": 2,
   "metadata": {},
   "outputs": [
    {
     "name": "stdout",
     "output_type": "stream",
     "text": [
      "Hello,'world!'\n"
     ]
    }
   ],
   "source": [
    "# let's write a program with single quotes escape sequence\n",
    "\n",
    "print('Hello,\\'world!\\'')"
   ]
  },
  {
   "cell_type": "code",
   "execution_count": 3,
   "metadata": {},
   "outputs": [],
   "source": [
    "# uses of \" \\\" \" double quotes\n",
    "# is it possible to add double quotes inside double quotes?\n",
    "# of course, it is\n",
    "# to add double quotes inside double quotes, we will use single quotes escape sequence"
   ]
  },
  {
   "cell_type": "code",
   "execution_count": 7,
   "metadata": {},
   "outputs": [
    {
     "name": "stdout",
     "output_type": "stream",
     "text": [
      "Hello, \"world!\"\n"
     ]
    }
   ],
   "source": [
    "# let's write a program with single quotes escape sequence\n",
    "\n",
    "print('Hello, \\\"world!\\\"')"
   ]
  },
  {
   "cell_type": "code",
   "execution_count": 8,
   "metadata": {},
   "outputs": [],
   "source": [
    "# uses of \" || \" backslash\n",
    "#  if we want to use backslash in the middle of string, is it possible?\n",
    "# of course, it is\n",
    "# but if we want to use backslash before or after string, is it possible?\n",
    "# of course, but we have to use escape sequence for this"
   ]
  },
  {
   "cell_type": "code",
   "execution_count": 9,
   "metadata": {},
   "outputs": [
    {
     "name": "stdout",
     "output_type": "stream",
     "text": [
      "\\ Hello, world! \\\n"
     ]
    }
   ],
   "source": [
    "# let's write a program to print backslash before and after string\n",
    "\n",
    "print(\"\\\\ Hello, world! \\\\\")"
   ]
  },
  {
   "cell_type": "code",
   "execution_count": 10,
   "metadata": {},
   "outputs": [],
   "source": [
    "# uses of \" |n \" new line\n",
    "# if we want to break a line to make two line, is it possible?\n",
    "# of course, it is \n",
    "# we will use new linw escape sequence"
   ]
  },
  {
   "cell_type": "code",
   "execution_count": 12,
   "metadata": {},
   "outputs": [
    {
     "name": "stdout",
     "output_type": "stream",
     "text": [
      "Hello, \n",
      " world!\n"
     ]
    }
   ],
   "source": [
    "# let's write a program with new line escape sequence\n",
    "\n",
    "print(\"Hello, \\n world!\")"
   ]
  },
  {
   "cell_type": "code",
   "execution_count": 13,
   "metadata": {},
   "outputs": [],
   "source": [
    "# uses of \" |t \" new line\n",
    "# if we want to use line, is it possible?\n",
    "# of course, it is \n",
    "# we will use tab escape sequence"
   ]
  },
  {
   "cell_type": "code",
   "execution_count": 14,
   "metadata": {},
   "outputs": [
    {
     "name": "stdout",
     "output_type": "stream",
     "text": [
      "Hello, \t world!\n"
     ]
    }
   ],
   "source": [
    "# let's write a program with tab escape sequence\n",
    "\n",
    "print(\"Hello, \\t world!\")"
   ]
  },
  {
   "cell_type": "code",
   "execution_count": 15,
   "metadata": {},
   "outputs": [],
   "source": [
    "# uses of \" |t \" new line\n",
    "# if we want to backspace, is it possible?\n",
    "# of course, it is \n",
    "# we will use tab backspace sequence"
   ]
  },
  {
   "cell_type": "code",
   "execution_count": 16,
   "metadata": {},
   "outputs": [
    {
     "name": "stdout",
     "output_type": "stream",
     "text": [
      "Hello, world!\n"
     ]
    }
   ],
   "source": [
    "# let's write a program with backspace escape sequence\n",
    "\n",
    "print(\"Hello, worll\\bd!\")"
   ]
  }
 ],
 "metadata": {
  "kernelspec": {
   "display_name": "Python 3",
   "language": "python",
   "name": "python3"
  },
  "language_info": {
   "codemirror_mode": {
    "name": "ipython",
    "version": 3
   },
   "file_extension": ".py",
   "mimetype": "text/x-python",
   "name": "python",
   "nbconvert_exporter": "python",
   "pygments_lexer": "ipython3",
   "version": "3.7.3"
  }
 },
 "nbformat": 4,
 "nbformat_minor": 4
}
