{
 "cells": [
  {
   "cell_type": "code",
   "execution_count": 1,
   "metadata": {},
   "outputs": [],
   "source": [
    "# let's see two variable\n",
    "\n",
    "first_name = \"Jobaer\"\n",
    "second_name = \"Hossain\"\n",
    "\n",
    "# if we want add two string, what can we do?\n",
    "# we will use string concatenation\n",
    "# concetenation means adding two or more string togather"
   ]
  },
  {
   "cell_type": "code",
   "execution_count": 2,
   "metadata": {},
   "outputs": [
    {
     "name": "stdout",
     "output_type": "stream",
     "text": [
      "JobaerHossain\n"
     ]
    }
   ],
   "source": [
    "# let's see it in a program\n",
    "\n",
    "print(first_name + second_name)"
   ]
  },
  {
   "cell_type": "code",
   "execution_count": 3,
   "metadata": {},
   "outputs": [
    {
     "name": "stdout",
     "output_type": "stream",
     "text": [
      "Jobaer Hossain\n"
     ]
    }
   ],
   "source": [
    "# we have to use \"+\" plus sign to add two string\n",
    "# but, in the output, there is no space\n",
    "# so, we have to add some space\n",
    "\n",
    "print(first_name+ \" \" + second_name)"
   ]
  },
  {
   "cell_type": "code",
   "execution_count": 6,
   "metadata": {},
   "outputs": [
    {
     "name": "stdout",
     "output_type": "stream",
     "text": [
      "Jobaer Hossain 2\n"
     ]
    }
   ],
   "source": [
    "# but, we have remember something very carefully\n",
    "# we can't use add string or number together\n",
    "# if we want to add string and number, we have to convert the number in string\n",
    "# to convert number as a string, we will use str() function\n",
    "# let's see it in the program\n",
    "\n",
    "print(first_name + \" \" + second_name + \" \" + str(2))"
   ]
  }
 ],
 "metadata": {
  "kernelspec": {
   "display_name": "Python 3",
   "language": "python",
   "name": "python3"
  },
  "language_info": {
   "codemirror_mode": {
    "name": "ipython",
    "version": 3
   },
   "file_extension": ".py",
   "mimetype": "text/x-python",
   "name": "python",
   "nbconvert_exporter": "python",
   "pygments_lexer": "ipython3",
   "version": "3.6.7"
  }
 },
 "nbformat": 4,
 "nbformat_minor": 2
}
