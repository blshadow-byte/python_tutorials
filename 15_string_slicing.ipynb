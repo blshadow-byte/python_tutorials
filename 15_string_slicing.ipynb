{
 "cells": [
  {
   "cell_type": "code",
   "execution_count": 1,
   "metadata": {},
   "outputs": [],
   "source": [
    "# if we ant to print a character from string, we will use index number\n",
    "# but, if we want to print more than one character from string, what can we do?\n",
    "# we will use slicing or selecting sub sequences method\n",
    "# syntax -----> print(\"var_name[start agrument : stop agrument]\")\n",
    "# here, stop agruments mean \"end point + 1\" -----> example, if slicing end in index number 2, so stop agruments is 3"
   ]
  },
  {
   "cell_type": "code",
   "execution_count": 6,
   "metadata": {},
   "outputs": [
    {
     "name": "stdout",
     "output_type": "stream",
     "text": [
      "py\n"
     ]
    }
   ],
   "source": [
    "# let's do it in the real world program\n",
    "\n",
    "language = \"python\"\n",
    "print(language[0:2]) # we want to print first two character"
   ]
  },
  {
   "cell_type": "code",
   "execution_count": 10,
   "metadata": {},
   "outputs": [
    {
     "name": "stdout",
     "output_type": "stream",
     "text": [
      "pyth\n"
     ]
    }
   ],
   "source": [
    "# but, if we don't define the start agrument, so python print first to end point\n",
    "\n",
    "print(language[:4])"
   ]
  },
  {
   "cell_type": "code",
   "execution_count": 9,
   "metadata": {},
   "outputs": [
    {
     "name": "stdout",
     "output_type": "stream",
     "text": [
      "python\n"
     ]
    }
   ],
   "source": [
    "# but, if we don't define stop agrument, so python print start agrument to end of string\n",
    "\n",
    "print(language[:])"
   ]
  },
  {
   "cell_type": "code",
   "execution_count": 9,
   "metadata": {},
   "outputs": [
    {
     "name": "stdout",
     "output_type": "stream",
     "text": [
      "python\n"
     ]
    }
   ],
   "source": [
    "# but, if we don't define any agrument, so python print the whole string\n",
    "\n",
    "print(language[:])"
   ]
  }
 ],
 "metadata": {
  "kernelspec": {
   "display_name": "Python 3",
   "language": "python",
   "name": "python3"
  },
  "language_info": {
   "codemirror_mode": {
    "name": "ipython",
    "version": 3
   },
   "file_extension": ".py",
   "mimetype": "text/x-python",
   "name": "python",
   "nbconvert_exporter": "python",
   "pygments_lexer": "ipython3",
   "version": "3.6.7"
  }
 },
 "nbformat": 4,
 "nbformat_minor": 2
}
