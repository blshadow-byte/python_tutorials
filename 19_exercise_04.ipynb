{
 "cells": [
  {
   "cell_type": "code",
   "execution_count": 1,
   "metadata": {},
   "outputs": [],
   "source": [
    "# exercise:\n",
    "# take two comma separeted input\n",
    "# 1.) user name\n",
    "# 2.) a single character\n",
    "\n",
    "# output:- two lines\n",
    "# 1.) user's name length\n",
    "# 2.) count that character user inputed (bonus : case insensitive count)"
   ]
  },
  {
   "cell_type": "code",
   "execution_count": 9,
   "metadata": {},
   "outputs": [
    {
     "name": "stdout",
     "output_type": "stream",
     "text": [
      "Enter the user name and a sigle character(Separeted by comma): Jobaer,o\n",
      "length of user name is 6\n",
      "o is used 1\n"
     ]
    }
   ],
   "source": [
    "# solution:\n",
    "\n",
    "User_Name, Character = input(\"Enter the user name and a sigle character(Separeted by comma): \").split(\",\")\n",
    "print(f\"length of user name is {len(User_Name)}\")\n",
    "print(f\"{Character} is used {User_Name.lower().count(Character.lower())}\")"
   ]
  }
 ],
 "metadata": {
  "kernelspec": {
   "display_name": "Python 3",
   "language": "python",
   "name": "python3"
  },
  "language_info": {
   "codemirror_mode": {
    "name": "ipython",
    "version": 3
   },
   "file_extension": ".py",
   "mimetype": "text/x-python",
   "name": "python",
   "nbconvert_exporter": "python",
   "pygments_lexer": "ipython3",
   "version": "3.6.7"
  }
 },
 "nbformat": 4,
 "nbformat_minor": 2
}
