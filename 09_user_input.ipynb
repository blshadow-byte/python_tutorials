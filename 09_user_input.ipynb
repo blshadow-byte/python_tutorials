{
 "cells": [
  {
   "cell_type": "code",
   "execution_count": 1,
   "metadata": {},
   "outputs": [],
   "source": [
    "# if we want to take data from user, we can we do?\n",
    "# we will use input function\n",
    "# syntax -----> variable_name = input(\"Message\")\n",
    "# let's see it in the program"
   ]
  },
  {
   "cell_type": "code",
   "execution_count": 3,
   "metadata": {},
   "outputs": [
    {
     "name": "stdout",
     "output_type": "stream",
     "text": [
      "Enter your user name Jobaer Hossain\n",
      "enter your age 20\n",
      "Hello, \n",
      "Mr. Jobaer Hossain\n",
      "you are 20 years old\n"
     ]
    }
   ],
   "source": [
    "user_name = input(\"Enter your user name \")\n",
    "age = input(\"enter your age \")\n",
    "print(\"Hello, \\nMr. \" + user_name)\n",
    "print(\"you are\" + \" \"+ age + \" \" + \"years old\")"
   ]
  },
  {
   "cell_type": "code",
   "execution_count": null,
   "metadata": {},
   "outputs": [],
   "source": [
    "# remember one thing carefully that python take the input from user as a string\n",
    "# if user input number, python take it as a string"
   ]
  }
 ],
 "metadata": {
  "kernelspec": {
   "display_name": "Python 3",
   "language": "python",
   "name": "python3"
  },
  "language_info": {
   "codemirror_mode": {
    "name": "ipython",
    "version": 3
   },
   "file_extension": ".py",
   "mimetype": "text/x-python",
   "name": "python",
   "nbconvert_exporter": "python",
   "pygments_lexer": "ipython3",
   "version": "3.6.7"
  }
 },
 "nbformat": 4,
 "nbformat_minor": 2
}
