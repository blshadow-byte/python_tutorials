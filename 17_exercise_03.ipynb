{
 "cells": [
  {
   "cell_type": "code",
   "execution_count": 1,
   "metadata": {},
   "outputs": [],
   "source": [
    "# Exercise:\n",
    "# Ask user name and print back user name in reverse order\n",
    "# Bonus: try to make your program in two lines using string formating"
   ]
  },
  {
   "cell_type": "code",
   "execution_count": 3,
   "metadata": {},
   "outputs": [
    {
     "name": "stdout",
     "output_type": "stream",
     "text": [
      "Enter user name: Jobaer\n",
      "Hello, Mr. Jobaer. The reverse order of your name is reaboJ\n"
     ]
    }
   ],
   "source": [
    "# Solution:\n",
    "\n",
    "user_name = input(\"Enter user name: \")\n",
    "print(f\"Hello, Mr. {user_name}. The reverse order of your name is {user_name[::-1]}\")"
   ]
  }
 ],
 "metadata": {
  "kernelspec": {
   "display_name": "Python 3",
   "language": "python",
   "name": "python3"
  },
  "language_info": {
   "codemirror_mode": {
    "name": "ipython",
    "version": 3
   },
   "file_extension": ".py",
   "mimetype": "text/x-python",
   "name": "python",
   "nbconvert_exporter": "python",
   "pygments_lexer": "ipython3",
   "version": "3.6.7"
  }
 },
 "nbformat": 4,
 "nbformat_minor": 2
}
