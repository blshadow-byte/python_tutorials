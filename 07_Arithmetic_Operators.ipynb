{
 "cells": [
  {
   "cell_type": "code",
   "execution_count": 1,
   "metadata": {},
   "outputs": [],
   "source": [
    "# we need to calculate addition, substruction, multiplicition, division and remainder\n",
    "# for all this task, we will use arithmetic operators\n",
    "# for calculating addition, we will use \"+\" plus sign, syntax -----> number_one + number_two\n",
    "# for calculating substruction, we will use \"-\" minus sign, syntax -----> number_one - number_two\n",
    "# for calculating multiplication, we will use \"*\" star sign, syntax -----> number_one * number_two\n",
    "# for calculating division, we will use \"/\" slash sign, syntax -----> number_one / number_two\n",
    "# for calculating remainder, we will use \"%\" percent sign, syntax -----> number_one % number_two"
   ]
  },
  {
   "cell_type": "code",
   "execution_count": 2,
   "metadata": {},
   "outputs": [
    {
     "name": "stdout",
     "output_type": "stream",
     "text": [
      "11\n",
      "1\n",
      "30\n",
      "1.2\n",
      "1\n"
     ]
    }
   ],
   "source": [
    "# let's use the operators in program\n",
    "\n",
    "number_one = 6\n",
    "number_two = 5\n",
    "\n",
    "print(number_one + number_two)\n",
    "print(number_one - number_two)\n",
    "print(number_one * number_two)\n",
    "print(number_one / number_two)\n",
    "print(number_one % number_two)"
   ]
  }
 ],
 "metadata": {
  "kernelspec": {
   "display_name": "Python 3",
   "language": "python",
   "name": "python3"
  },
  "language_info": {
   "codemirror_mode": {
    "name": "ipython",
    "version": 3
   },
   "file_extension": ".py",
   "mimetype": "text/x-python",
   "name": "python",
   "nbconvert_exporter": "python",
   "pygments_lexer": "ipython3",
   "version": "3.6.7"
  }
 },
 "nbformat": 4,
 "nbformat_minor": 2
}
