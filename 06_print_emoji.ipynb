{
 "cells": [
  {
   "cell_type": "code",
   "execution_count": 1,
   "metadata": {},
   "outputs": [],
   "source": [
    "# if we want to print emoji in program, what can we do?\n",
    "# first, we have to copy the unicode of emoji\n",
    "# second, paste it inside double or single quotes\n",
    "# then, replace the \"+\" sign with \"000\" three zero and \"\\\" backslash before unicode\n",
    "# let's do it in the program"
   ]
  },
  {
   "cell_type": "code",
   "execution_count": 2,
   "metadata": {},
   "outputs": [
    {
     "name": "stdout",
     "output_type": "stream",
     "text": [
      "🤣\n",
      "😂\n",
      "😉\n",
      "🥰\n",
      "😘\n"
     ]
    }
   ],
   "source": [
    "print(\"\\U0001F923\")\n",
    "print(\"\\U0001F602\")\n",
    "print(\"\\U0001F609\")\n",
    "print(\"\\U0001F970\")\n",
    "print(\"\\U0001F618\")"
   ]
  }
 ],
 "metadata": {
  "kernelspec": {
   "display_name": "Python 3",
   "language": "python",
   "name": "python3"
  },
  "language_info": {
   "codemirror_mode": {
    "name": "ipython",
    "version": 3
   },
   "file_extension": ".py",
   "mimetype": "text/x-python",
   "name": "python",
   "nbconvert_exporter": "python",
   "pygments_lexer": "ipython3",
   "version": "3.6.7"
  }
 },
 "nbformat": 4,
 "nbformat_minor": 2
}
