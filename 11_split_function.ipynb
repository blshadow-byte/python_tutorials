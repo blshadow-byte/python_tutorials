{
 "cells": [
  {
   "cell_type": "code",
   "execution_count": 1,
   "metadata": {},
   "outputs": [],
   "source": [
    "# is it possible to take more than one input in oe line from user?\n",
    "# of course, it is possible\n",
    "# syntax -----> var_name, var_name,...... = input(\"message\")\n",
    "# but python show error for this line\n",
    "# becuase, user have to separated input data by comma or space\n",
    "# so, we have to use split() function to separated data py comma or nspace"
   ]
  },
  {
   "cell_type": "code",
   "execution_count": 3,
   "metadata": {},
   "outputs": [],
   "source": [
    "# if we want separated data by space\n",
    "# we will use split() function like this\n",
    "# syntax -----> var_name, var_name,...... = input(\"message\").split()\n",
    "# lets write a program with split function to separated data by space"
   ]
  },
  {
   "cell_type": "code",
   "execution_count": 5,
   "metadata": {},
   "outputs": [
    {
     "name": "stdout",
     "output_type": "stream",
     "text": [
      "Enter user name and age, data separated by space: Jobaer 20\n",
      "Hello, \n",
      " Mr. Jobaer\n",
      "you are 20\n"
     ]
    }
   ],
   "source": [
    "user_name, age = input(\"Enter user name and age, data separated by space: \").split()\n",
    "print(\"Hello, \\n Mr. \" + user_name)\n",
    "print(\"you are \" + age)"
   ]
  },
  {
   "cell_type": "code",
   "execution_count": 6,
   "metadata": {},
   "outputs": [],
   "source": [
    "# if we want separated data with comma, so what can we do?\n",
    "# syntax -----> var_name, var_name,...... = input(\"message\").split(\",\")\n",
    "# we have to just write a comma inside the perantheses of split() function\n",
    "# lets write a program with split function to separated data by comma"
   ]
  },
  {
   "cell_type": "code",
   "execution_count": 7,
   "metadata": {},
   "outputs": [
    {
     "name": "stdout",
     "output_type": "stream",
     "text": [
      "Enter user name and age, data separated by space: Jobaer, 20\n",
      "Hello, \n",
      " Mr. Jobaer\n",
      "you are  20\n"
     ]
    }
   ],
   "source": [
    "user_name, age = input(\"Enter user name and age, data separated by space: \").split(\",\")\n",
    "print(\"Hello, \\n Mr. \" + user_name)\n",
    "print(\"you are \" + age)"
   ]
  }
 ],
 "metadata": {
  "kernelspec": {
   "display_name": "Python 3",
   "language": "python",
   "name": "python3"
  },
  "language_info": {
   "codemirror_mode": {
    "name": "ipython",
    "version": 3
   },
   "file_extension": ".py",
   "mimetype": "text/x-python",
   "name": "python",
   "nbconvert_exporter": "python",
   "pygments_lexer": "ipython3",
   "version": "3.6.7"
  }
 },
 "nbformat": 4,
 "nbformat_minor": 2
}
