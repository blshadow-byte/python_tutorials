{
 "cells": [
  {
   "cell_type": "code",
   "execution_count": 1,
   "metadata": {},
   "outputs": [
    {
     "name": "stdout",
     "output_type": "stream",
     "text": [
      "Enter a number 6\n",
      "Enter one more number 5\n",
      "Total \t 65\n"
     ]
    }
   ],
   "source": [
    "# let's write a program to add to number\n",
    "\n",
    "number_one = input(\"Enter a number \")\n",
    "number_two = input(\"Enter one more number \")\n",
    "result = number_one + number_two\n",
    "print(\"Total \\t \"  + result)"
   ]
  },
  {
   "cell_type": "code",
   "execution_count": 2,
   "metadata": {},
   "outputs": [],
   "source": [
    "# don't worry about the output\n",
    "# but, the question is, how can it possible?\n",
    "# becuase, we know that python take input as a string\n",
    "# so, python just add two string not number\n",
    "# so, what can we do to add two number?\n",
    "# first, we have to convert input in number, we will use int() function to convert string to number\n",
    "# second, add the numbers\n",
    "# but you you have to convert the result in string\n",
    "# becuase we can't add number with string"
   ]
  },
  {
   "cell_type": "code",
   "execution_count": 3,
   "metadata": {},
   "outputs": [
    {
     "name": "stdout",
     "output_type": "stream",
     "text": [
      "Enter a number 66\n",
      "Enter one more number 55\n",
      "Total \t121\n"
     ]
    }
   ],
   "source": [
    "# let's do it in the program\n",
    "\n",
    "number_one = int(input(\"Enter a number \")) # now python take input as a number\n",
    "number_two = int(input(\"Enter one more number \"))\n",
    "result = number_one + number_two\n",
    "print(\"Total \\t\" + str(result)) # str() function to convert number to string"
   ]
  },
  {
   "cell_type": "code",
   "execution_count": null,
   "metadata": {},
   "outputs": [],
   "source": []
  }
 ],
 "metadata": {
  "kernelspec": {
   "display_name": "Python 3",
   "language": "python",
   "name": "python3"
  },
  "language_info": {
   "codemirror_mode": {
    "name": "ipython",
    "version": 3
   },
   "file_extension": ".py",
   "mimetype": "text/x-python",
   "name": "python",
   "nbconvert_exporter": "python",
   "pygments_lexer": "ipython3",
   "version": "3.6.7"
  }
 },
 "nbformat": 4,
 "nbformat_minor": 2
}
