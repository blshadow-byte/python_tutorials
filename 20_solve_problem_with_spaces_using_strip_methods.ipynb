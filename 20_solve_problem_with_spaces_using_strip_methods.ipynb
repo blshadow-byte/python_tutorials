{
 "cells": [
  {
   "cell_type": "code",
   "execution_count": 5,
   "metadata": {},
   "outputs": [
    {
     "name": "stdout",
     "output_type": "stream",
     "text": [
      "..........     Jobaer     ..........\n"
     ]
    }
   ],
   "source": [
    "# let's see two variable\n",
    "\n",
    "Name = \"     Jobaer     \"\n",
    "Dots = \"..........\"\n",
    "\n",
    "# let's print two variable\n",
    "\n",
    "print(f\"{Dots}{Name}{Dots}\")"
   ]
  },
  {
   "cell_type": "code",
   "execution_count": 6,
   "metadata": {},
   "outputs": [
    {
     "name": "stdout",
     "output_type": "stream",
     "text": [
      "..........Jobaer     ..........\n"
     ]
    }
   ],
   "source": [
    "# if we want remove left hand sided spaces, we will use lstrip method\n",
    "\n",
    "print(f\"{Dots}{Name.lstrip()}{Dots}\")"
   ]
  },
  {
   "cell_type": "code",
   "execution_count": 17,
   "metadata": {},
   "outputs": [
    {
     "name": "stdout",
     "output_type": "stream",
     "text": [
      "..........     Jobaer..........\n"
     ]
    }
   ],
   "source": [
    "# if we want remove right hand sided spaces, we will use lstrip method\n",
    "\n",
    "print(f\"{Dots}{Name.rstrip()}{Dots}\")"
   ]
  },
  {
   "cell_type": "code",
   "execution_count": 22,
   "metadata": {},
   "outputs": [
    {
     "name": "stdout",
     "output_type": "stream",
     "text": [
      "..........Jobaer..........\n"
     ]
    }
   ],
   "source": [
    "# if there are some spaces in middle of string, what can we do?\n",
    "# to remoove all spaces, we will use replace method\n",
    "# let's see it in a program\n",
    "\n",
    "User_Name =\"     Job     aer     \"\n",
    "print(Dots + User_Name.replace(\" \", \"\") + Dots)"
   ]
  }
 ],
 "metadata": {
  "kernelspec": {
   "display_name": "Python 3",
   "language": "python",
   "name": "python3"
  },
  "language_info": {
   "codemirror_mode": {
    "name": "ipython",
    "version": 3
   },
   "file_extension": ".py",
   "mimetype": "text/x-python",
   "name": "python",
   "nbconvert_exporter": "python",
   "pygments_lexer": "ipython3",
   "version": "3.6.7"
  }
 },
 "nbformat": 4,
 "nbformat_minor": 2
}
