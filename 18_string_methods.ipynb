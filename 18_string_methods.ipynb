{
 "cells": [
  {
   "cell_type": "code",
   "execution_count": 1,
   "metadata": {},
   "outputs": [
    {
     "name": "stdout",
     "output_type": "stream",
     "text": [
      "14\n"
     ]
    }
   ],
   "source": [
    "# let's see a string\n",
    "\n",
    "User_Name = \"jObAeR hOsSaIn\"\n",
    "\n",
    "# if we want to count, how many characters are in the string?\n",
    "# we will use lenght method\n",
    "\n",
    "print(len(User_Name)) # remember carefully, python also count the spaces in the string"
   ]
  },
  {
   "cell_type": "code",
   "execution_count": 2,
   "metadata": {},
   "outputs": [
    {
     "name": "stdout",
     "output_type": "stream",
     "text": [
      "jobaer hossain\n"
     ]
    }
   ],
   "source": [
    "# if we want to convert all the character in lower cases, what can we do?\n",
    "# we will use lower method\n",
    "\n",
    "print(User_Name.lower())"
   ]
  },
  {
   "cell_type": "code",
   "execution_count": 3,
   "metadata": {},
   "outputs": [
    {
     "name": "stdout",
     "output_type": "stream",
     "text": [
      "JOBAER HOSSAIN\n"
     ]
    }
   ],
   "source": [
    "# if we want to convert all the character in upper cases, what can we do?\n",
    "# we will use upper method\n",
    "\n",
    "print(User_Name.upper())"
   ]
  },
  {
   "cell_type": "code",
   "execution_count": 4,
   "metadata": {},
   "outputs": [
    {
     "name": "stdout",
     "output_type": "stream",
     "text": [
      "Jobaer Hossain\n"
     ]
    }
   ],
   "source": [
    "# if we want to convert the first character in uuper and other's in lower cases, what can we do?\n",
    "# we will use title method\n",
    "\n",
    "print(User_Name.title())"
   ]
  },
  {
   "cell_type": "code",
   "execution_count": 6,
   "metadata": {},
   "outputs": [
    {
     "name": "stdout",
     "output_type": "stream",
     "text": [
      "2\n"
     ]
    }
   ],
   "source": [
    "# if we want to count, how many times a character we use in the string?\n",
    "# what can we do?\n",
    "# we will use, count method\n",
    "# syntax -----> variable_name.count(\"character\")\n",
    "\n",
    "print(User_Name.count(\"O\"))"
   ]
  }
 ],
 "metadata": {
  "kernelspec": {
   "display_name": "Python 3",
   "language": "python",
   "name": "python3"
  },
  "language_info": {
   "codemirror_mode": {
    "name": "ipython",
    "version": 3
   },
   "file_extension": ".py",
   "mimetype": "text/x-python",
   "name": "python",
   "nbconvert_exporter": "python",
   "pygments_lexer": "ipython3",
   "version": "3.6.7"
  }
 },
 "nbformat": 4,
 "nbformat_minor": 2
}
