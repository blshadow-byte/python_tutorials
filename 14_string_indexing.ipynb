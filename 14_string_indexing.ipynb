{
 "cells": [
  {
   "cell_type": "code",
   "execution_count": 1,
   "metadata": {},
   "outputs": [
    {
     "name": "stdout",
     "output_type": "stream",
     "text": [
      "t\n"
     ]
    }
   ],
   "source": [
    "# in a string, every character has a position, we call this position as a index number\n",
    "# characters of string are started from \"0\" zero\n",
    "# let's see a string\n",
    "\n",
    "language = \"python\"\n",
    "\n",
    "# let's see all the position of language\n",
    "\n",
    "# character -----> position\n",
    "# p -----> 0\n",
    "# y -----> 1\n",
    "# t -----> 2\n",
    "# h -----> 3\n",
    "# o -----> 4\n",
    "# n -----> 5\n",
    "\n",
    "# by using index number, we can print any character of string\n",
    "\n",
    "print(language[2]) # we have to define index number inside square bracket"
   ]
  },
  {
   "cell_type": "code",
   "execution_count": 3,
   "metadata": {},
   "outputs": [
    {
     "name": "stdout",
     "output_type": "stream",
     "text": [
      "t\n"
     ]
    }
   ],
   "source": [
    "# if we started counting character position from the ending of string\n",
    "# the counting starting from \"-1\"\n",
    "# lrt's see the ondex number of language string\n",
    "# character -----> position\n",
    "# p -----> -6\n",
    "# y -----> -5\n",
    "# t -----> -4\n",
    "# h -----> -3\n",
    "# o -----> -2\n",
    "# n -----> -1\n",
    "\n",
    "print(language[-4])"
   ]
  }
 ],
 "metadata": {
  "kernelspec": {
   "display_name": "Python 3",
   "language": "python",
   "name": "python3"
  },
  "language_info": {
   "codemirror_mode": {
    "name": "ipython",
    "version": 3
   },
   "file_extension": ".py",
   "mimetype": "text/x-python",
   "name": "python",
   "nbconvert_exporter": "python",
   "pygments_lexer": "ipython3",
   "version": "3.6.7"
  }
 },
 "nbformat": 4,
 "nbformat_minor": 2
}
