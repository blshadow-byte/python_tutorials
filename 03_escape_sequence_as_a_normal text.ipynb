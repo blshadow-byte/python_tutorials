{
 "cells": [
  {
   "cell_type": "code",
   "execution_count": 1,
   "metadata": {},
   "outputs": [],
   "source": [
    "# if we want to print \"line A \\n line B\"\n",
    "# is it posiible?\n",
    "# because we know that \"\\n\" is a escape sequence\n",
    "# can we use escape sequence as a normal text?"
   ]
  },
  {
   "cell_type": "code",
   "execution_count": 2,
   "metadata": {},
   "outputs": [],
   "source": [
    "# of course\n",
    "# but there is some rules to use escape sequence as a normal text\n",
    "# for \"\\n & \\t\", we have to add extra backslash \"\\\" before escape sequence\n",
    "# let's write a program to print \"line A ___ line B\""
   ]
  },
  {
   "cell_type": "code",
   "execution_count": 3,
   "metadata": {},
   "outputs": [
    {
     "name": "stdout",
     "output_type": "stream",
     "text": [
      "line A \n",
      " line B\n",
      "line A \\n line B\n"
     ]
    }
   ],
   "source": [
    "print(\"line A \\n line B\")\n",
    "print(\"line A \\\\n line B\") # use escape sequence as a normal text"
   ]
  },
  {
   "cell_type": "code",
   "execution_count": 4,
   "metadata": {},
   "outputs": [
    {
     "name": "stdout",
     "output_type": "stream",
     "text": [
      "line A \t line B\n",
      "line A \\t line B\n"
     ]
    }
   ],
   "source": [
    "print(\"line A \\t line B\")\n",
    "print(\"line A \\\\t line B\")"
   ]
  },
  {
   "cell_type": "code",
   "execution_count": 6,
   "metadata": {},
   "outputs": [],
   "source": [
    "# if we want to use (\\ , \\' , \\\") as a normal text\n",
    "# we will add extra two backslash before escape sequence\n",
    "# for backslas \"\\\", we will use \"\\\\\" backslash & for \"\\\\\" backslash we will use \"\\\\\\\\\" backslash\n",
    "# let's write a program to print \"___ line A ___ line B___\""
   ]
  },
  {
   "cell_type": "code",
   "execution_count": 7,
   "metadata": {},
   "outputs": [
    {
     "name": "stdout",
     "output_type": "stream",
     "text": [
      "\\ line A \\ line B \\\n",
      "line A \\\" line B\n",
      "line A \\' line B\n"
     ]
    }
   ],
   "source": [
    "print(\"\\\\ line A \\ line B \\\\\") # if we use backslash in the middle, we don't need to add anything\n",
    "print(\"line A \\\\\\\" line B\")\n",
    "print(\"line A \\\\\\' line B\")"
   ]
  }
 ],
 "metadata": {
  "kernelspec": {
   "display_name": "Python 3",
   "language": "python",
   "name": "python3"
  },
  "language_info": {
   "codemirror_mode": {
    "name": "ipython",
    "version": 3
   },
   "file_extension": ".py",
   "mimetype": "text/x-python",
   "name": "python",
   "nbconvert_exporter": "python",
   "pygments_lexer": "ipython3",
   "version": "3.7.3"
  }
 },
 "nbformat": 4,
 "nbformat_minor": 4
}
