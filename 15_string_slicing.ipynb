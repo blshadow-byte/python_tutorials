{
 "cells": [
  {
   "cell_type": "code",
   "execution_count": 1,
   "metadata": {},
   "outputs": [],
   "source": [
    "# if we ant to print a character from string, we will use index number\n",
    "# but, if we want to print more than one character from string, what can we do?\n",
    "# we will use slicing or selecting sub sequences method\n",
    "# syntax -----> print(\"var_name[start agrument : stop agrument]\")\n",
    "# here, stop agruments mean \"end point + 1\" -----> example, if slicing end in index number 2, so stop agruments is 3"
   ]
  },
  {
   "cell_type": "code",
   "execution_count": 2,
   "metadata": {},
   "outputs": [
    {
     "name": "stdout",
     "output_type": "stream",
     "text": [
      "py\n"
     ]
    }
   ],
   "source": [
    "# let's do it in the real world program\n",
    "\n",
    "language = \"python\"\n",
    "print(language[0:2]) # we want to print first two character"
   ]
  },
  {
   "cell_type": "code",
   "execution_count": 3,
   "metadata": {},
   "outputs": [
    {
     "name": "stdout",
     "output_type": "stream",
     "text": [
      "pyth\n"
     ]
    }
   ],
   "source": [
    "# but, if we don't define the start agrument, so python print first to end point\n",
    "\n",
    "print(language[:4])"
   ]
  },
  {
   "cell_type": "code",
   "execution_count": 4,
   "metadata": {},
   "outputs": [
    {
     "name": "stdout",
     "output_type": "stream",
     "text": [
      "thon\n"
     ]
    }
   ],
   "source": [
    "# but, if we don't define stop agrument, so python print start agrument to end of string\n",
    "\n",
    "print(language[2:])"
   ]
  },
  {
   "cell_type": "code",
   "execution_count": 5,
   "metadata": {},
   "outputs": [
    {
     "name": "stdout",
     "output_type": "stream",
     "text": [
      "python\n"
     ]
    }
   ],
   "source": [
    "# but, if we don't define any agrument, so python print the whole string\n",
    "\n",
    "print(language[:])"
   ]
  },
  {
   "cell_type": "code",
   "execution_count": 15,
   "metadata": {},
   "outputs": [
    {
     "name": "stdout",
     "output_type": "stream",
     "text": [
      "py\n",
      "pyth\n",
      "thon\n"
     ]
    }
   ],
   "source": [
    "# we can also slicing with negative index number\n",
    "\n",
    "print(language[-6:-4])\n",
    "print(language[:-2])\n",
    "print(language[-4:])"
   ]
  }
 ],
 "metadata": {
  "kernelspec": {
   "display_name": "Python 3",
   "language": "python",
   "name": "python3"
  },
  "language_info": {
   "codemirror_mode": {
    "name": "ipython",
    "version": 3
   },
   "file_extension": ".py",
   "mimetype": "text/x-python",
   "name": "python",
   "nbconvert_exporter": "python",
   "pygments_lexer": "ipython3",
   "version": "3.7.3"
  }
 },
 "nbformat": 4,
 "nbformat_minor": 4
}
